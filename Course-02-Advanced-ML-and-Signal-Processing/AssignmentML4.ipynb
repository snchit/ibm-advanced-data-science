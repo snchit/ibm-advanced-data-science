{
 "cells": [
  {
   "cell_type": "markdown",
   "metadata": {},
   "source": [
    "This is the last assignment for the Coursera course \"Advanced Machine Learning and Signal Processing\"\n",
    "\n",
    "Just execute all cells one after the other and you are done - just note that in the last one you should update your email address (the one you've used for coursera) and obtain a submission token, you get this from the programming assignment directly on coursera.\n",
    "\n",
    "Please fill in the sections labelled with \"###YOUR_CODE_GOES_HERE###\"\n",
    "\n",
    "The purpose of this assignment is to learn how feature engineering boosts model performance. You will apply Discrete Fourier Transformation on the accelerometer sensor time series and therefore transforming the dataset from the time to the frequency domain. \n",
    "\n",
    "After that, you’ll use a classification algorithm of your choice to create a model and submit the new predictions to the grader. Done.\n",
    "\n",
    "Please make sure you run this notebook from an Apache Spark 2.3 notebook.\n",
    "\n",
    "So the first thing we need to ensure is that we are on the latest version of SystemML, which is 1.3.0 (as of 20th March'19) Please use the code block below to check if you are already on 1.3.0 or higher. 1.3 contains a necessary fix, that's we are running against the SNAPSHOT\n"
   ]
  },
  {
   "cell_type": "markdown",
   "metadata": {},
   "source": [
    "\n",
    "\n",
    "If you are blow version 1.3.0, or you got the error message \"No module named 'systemml'\"  please execute the next two code blocks and then\n",
    "\n",
    "# PLEASE RESTART THE KERNEL !!!\n",
    "\n",
    "Otherwise your changes won't take effect, just double-check every time you run this notebook if you are on SystemML 1.3\n"
   ]
  },
  {
   "cell_type": "code",
   "execution_count": null,
   "metadata": {},
   "outputs": [],
   "source": [
    "!pip install https://github.com/IBM/coursera/blob/master/systemml-1.3.0-SNAPSHOT-python.tar.gz?raw=true"
   ]
  },
  {
   "cell_type": "markdown",
   "metadata": {},
   "source": [
    "\n",
    "\n",
    "Now we need to create two sym links that the newest version is picket up - this is a workaround and will be removed as soon as SystemML 1.3 will be pre-installed on Watson Studio once officially released.\n"
   ]
  },
  {
   "cell_type": "code",
   "execution_count": null,
   "metadata": {},
   "outputs": [],
   "source": [
    "!ln -s -f ~/user-libs/python3.6/systemml/systemml-java/systemml-1.3.0-SNAPSHOT-extra.jar ~/user-libs/spark2/systemml-1.3.0-SNAPSHOT-extra.jar\n",
    "!ln -s -f ~/user-libs/python3.6/systemml/systemml-java/systemml-1.3.0-SNAPSHOT.jar ~/user-libs/spark2/systemml-1.3.0-SNAPSHOT.jar"
   ]
  },
  {
   "cell_type": "markdown",
   "metadata": {},
   "source": [
    "# Please now restart the kernel and start from the beginning to make sure you've installed SystemML 1.3\n",
    "\n"
   ]
  },
  {
   "cell_type": "code",
   "execution_count": 1,
   "metadata": {},
   "outputs": [],
   "source": [
    "from pyspark.sql import SparkSession\n",
    "# initialise sparkContext\n",
    "spark = SparkSession.builder \\\n",
    "    .master('local') \\\n",
    "    .appName('myAppName') \\\n",
    "    .config(\"spark.cores.max\", \"2\") \\\n",
    "    .getOrCreate()\n",
    "\n",
    "#     .config('spark.executor.memory', '1gb') \\\n",
    "\n",
    "sc = spark.sparkContext\n",
    "\n",
    "# using SQLContext to read parquet file\n",
    "from pyspark.sql import SQLContext\n",
    "sqlContext = SQLContext(sc)\n",
    "import pyspark.sql.functions as F"
   ]
  },
  {
   "cell_type": "code",
   "execution_count": 2,
   "metadata": {},
   "outputs": [],
   "source": [
    "# !pip install systemml"
   ]
  },
  {
   "cell_type": "code",
   "execution_count": 3,
   "metadata": {},
   "outputs": [
    {
     "name": "stdout",
     "output_type": "stream",
     "text": [
      "1.3.0-SNAPSHOT\n"
     ]
    }
   ],
   "source": [
    "from systemml import MLContext\n",
    "ml = MLContext(spark)\n",
    "print(ml.version())\n",
    "    \n",
    "if not ml.version() == '1.3.0-SNAPSHOT':\n",
    "    print(ml.version())\n",
    "#     raise ValueError('please upgrade to SystemML 1.3.0, or restart your Kernel (Kernel->Restart & Clear Output)')"
   ]
  },
  {
   "cell_type": "markdown",
   "metadata": {},
   "source": [
    "Let's download the test data since it's so small we don't use COS (IBM Cloud Object Store) here"
   ]
  },
  {
   "cell_type": "code",
   "execution_count": 4,
   "metadata": {},
   "outputs": [],
   "source": [
    "# !wget https://github.com/IBM/coursera/blob/master/coursera_ml/shake.parquet?raw=true\n",
    "# !mv shake.parquet?raw=true shake.parquet"
   ]
  },
  {
   "cell_type": "markdown",
   "metadata": {},
   "source": [
    "Now it’s time to read the sensor data and create a temporary query table."
   ]
  },
  {
   "cell_type": "code",
   "execution_count": 5,
   "metadata": {},
   "outputs": [],
   "source": [
    "df=spark.read.parquet('shake.parquet')"
   ]
  },
  {
   "cell_type": "code",
   "execution_count": 6,
   "metadata": {},
   "outputs": [
    {
     "name": "stdout",
     "output_type": "stream",
     "text": [
      "+-----+---------+-----+-----+-----+\n",
      "|CLASS| SENSORID|    X|    Y|    Z|\n",
      "+-----+---------+-----+-----+-----+\n",
      "|    2| qqqqqqqq| 0.12| 0.12| 0.12|\n",
      "|    2|aUniqueID| 0.03| 0.03| 0.03|\n",
      "|    2| qqqqqqqq|-3.84|-3.84|-3.84|\n",
      "|    2| 12345678| -0.1| -0.1| -0.1|\n",
      "|    2| 12345678|-0.15|-0.15|-0.15|\n",
      "|    2| 12345678| 0.47| 0.47| 0.47|\n",
      "|    2| 12345678|-0.06|-0.06|-0.06|\n",
      "|    2| 12345678|-0.09|-0.09|-0.09|\n",
      "|    2| 12345678| 0.21| 0.21| 0.21|\n",
      "|    2| 12345678|-0.08|-0.08|-0.08|\n",
      "|    2| 12345678| 0.44| 0.44| 0.44|\n",
      "|    2|    gholi| 0.76| 0.76| 0.76|\n",
      "|    2|    gholi| 1.62| 1.62| 1.62|\n",
      "|    2|    gholi| 5.81| 5.81| 5.81|\n",
      "|    2| bcbcbcbc| 0.58| 0.58| 0.58|\n",
      "|    2| bcbcbcbc|-8.24|-8.24|-8.24|\n",
      "|    2| bcbcbcbc|-0.45|-0.45|-0.45|\n",
      "|    2| bcbcbcbc| 1.03| 1.03| 1.03|\n",
      "|    2|aUniqueID|-0.05|-0.05|-0.05|\n",
      "|    2| qqqqqqqq|-0.44|-0.44|-0.44|\n",
      "+-----+---------+-----+-----+-----+\n",
      "only showing top 20 rows\n",
      "\n"
     ]
    }
   ],
   "source": [
    "df.show()"
   ]
  },
  {
   "cell_type": "code",
   "execution_count": 7,
   "metadata": {},
   "outputs": [
    {
     "data": {
      "text/plain": [
       "pyspark.sql.dataframe.DataFrame"
      ]
     },
     "execution_count": 7,
     "metadata": {},
     "output_type": "execute_result"
    }
   ],
   "source": [
    "type(df)"
   ]
  },
  {
   "cell_type": "code",
   "execution_count": 8,
   "metadata": {},
   "outputs": [],
   "source": [
    "# !pip install pixiedust"
   ]
  },
  {
   "cell_type": "code",
   "execution_count": 9,
   "metadata": {
    "pixiedust": {
     "displayParams": {
      "handlerId": "tableView"
     }
    }
   },
   "outputs": [],
   "source": [
    "# import pixiedust\n",
    "# display(df)"
   ]
  },
  {
   "cell_type": "code",
   "execution_count": 10,
   "metadata": {},
   "outputs": [],
   "source": [
    "df.createOrReplaceTempView(\"df\")"
   ]
  },
  {
   "cell_type": "markdown",
   "metadata": {},
   "source": [
    "We’ll use Apache SystemML to implement Discrete Fourier Transformation. This way all computation continues to happen on the Apache Spark cluster for advanced scalability and performance."
   ]
  },
  {
   "cell_type": "code",
   "execution_count": 11,
   "metadata": {},
   "outputs": [],
   "source": [
    "from systemml import MLContext, dml\n",
    "ml = MLContext(spark)"
   ]
  },
  {
   "cell_type": "markdown",
   "metadata": {},
   "source": [
    "As you’ve learned from the lecture, implementing Discrete Fourier Transformation in a linear algebra programming language is simple. Apache SystemML DML is such a language and as you can see the implementation is straightforward and doesn’t differ too much from the mathematical definition (Just note that the sum operator has been swapped with a vector dot product using the %*% syntax borrowed from R\n",
    "):\n",
    "\n",
    "<img style=\"float: left;\" src=\"https://wikimedia.org/api/rest_v1/media/math/render/svg/1af0a78dc50bbf118ab6bd4c4dcc3c4ff8502223\">\n",
    "\n"
   ]
  },
  {
   "cell_type": "code",
   "execution_count": 12,
   "metadata": {},
   "outputs": [],
   "source": [
    "dml_script = '''\n",
    "PI = 3.141592654\n",
    "N = nrow(signal)\n",
    "\n",
    "n = seq(0, N-1, 1)\n",
    "k = seq(0, N-1, 1)\n",
    "\n",
    "M = (n %*% t(k))*(2*PI/N)\n",
    "\n",
    "Xa = cos(M) %*% signal\n",
    "Xb = sin(M) %*% signal\n",
    "\n",
    "DFT = cbind(Xa, Xb)\n",
    "'''"
   ]
  },
  {
   "cell_type": "markdown",
   "metadata": {},
   "source": [
    "Now it’s time to create a function which takes a single row Apache Spark data frame as argument (the one containing the accelerometer measurement time series for one axis) and returns the Fourier transformation of it. In addition, we are adding an index column for later joining all axis together and renaming the columns to appropriate names. The result of this function is an Apache Spark DataFrame containing the Fourier Transformation of its input in two columns. \n"
   ]
  },
  {
   "cell_type": "code",
   "execution_count": 13,
   "metadata": {},
   "outputs": [],
   "source": [
    "from pyspark.sql.functions import monotonically_increasing_id\n",
    "\n",
    "def dft_systemml(signal,name):\n",
    "    prog = dml(dml_script).input('signal', signal).output('DFT')\n",
    "    \n",
    "    return (\n",
    "\n",
    "    #execute the script inside the SystemML engine running on top of Apache Spark\n",
    "    ml.execute(prog) \n",
    "     \n",
    "         #read result from SystemML execution back as SystemML Matrix\n",
    "        .get('DFT') \n",
    "     \n",
    "         #convert SystemML Matrix to ApacheSpark DataFrame \n",
    "        .toDF() \n",
    "     \n",
    "         #rename default column names\n",
    "        .selectExpr('C1 as %sa' % (name), 'C2 as %sb' % (name)) \n",
    "     \n",
    "         #add unique ID per row for later joining\n",
    "        .withColumn(\"id\", monotonically_increasing_id())\n",
    "    )\n",
    "        \n",
    "\n",
    "\n"
   ]
  },
  {
   "cell_type": "markdown",
   "metadata": {},
   "source": [
    "Now it’s time to create individual DataFrames containing only a subset of the data. We filter simultaneously for accelerometer each sensor axis and one for each class. This means you’ll get 6 DataFrames. Please implement this using the relational API of DataFrames or SparkSQL. Please use class 1 and 2 and not 0 and 1.\n"
   ]
  },
  {
   "cell_type": "code",
   "execution_count": null,
   "metadata": {},
   "outputs": [],
   "source": [
    "# df.select(\"X\", \"CLASS\").collect()"
   ]
  },
  {
   "cell_type": "code",
   "execution_count": null,
   "metadata": {},
   "outputs": [],
   "source": [
    "# df.select(\"X\").filter(df.CLASS == 2).show()"
   ]
  },
  {
   "cell_type": "code",
   "execution_count": 14,
   "metadata": {},
   "outputs": [],
   "source": [
    "x0 = df.select(\"X\").filter(df.CLASS == 1) # => Please create a DataFrame containing only measurements of class 0 from the x axis\n",
    "y0 = df.select(\"Y\").filter(df.CLASS == 1) # => Please create a DataFrame containing only measurements of class 0 from the y axis\n",
    "z0 = df.select(\"Z\").filter(df.CLASS == 1) # => Please create a DataFrame containing only measurements of class 0 from the z axis\n",
    "x1 = df.select(\"X\").filter(df.CLASS == 2) # => Please create a DataFrame containing only measurements of class 1 from the x axis\n",
    "y1 = df.select(\"Y\").filter(df.CLASS == 2) # => Please create a DataFrame containing only measurements of class 1 from the y axis\n",
    "z1 = df.select(\"Z\").filter(df.CLASS == 2) # => Please create a DataFrame containing only measurements of class 1 from the z axis"
   ]
  },
  {
   "cell_type": "code",
   "execution_count": 15,
   "metadata": {},
   "outputs": [],
   "source": [
    "# x0 = df.select(\"X\").filter(df.CLASS == 1)"
   ]
  },
  {
   "cell_type": "code",
   "execution_count": 16,
   "metadata": {},
   "outputs": [
    {
     "data": {
      "text/plain": [
       "pyspark.sql.dataframe.DataFrame"
      ]
     },
     "execution_count": 16,
     "metadata": {},
     "output_type": "execute_result"
    }
   ],
   "source": [
    "type(x0)"
   ]
  },
  {
   "cell_type": "markdown",
   "metadata": {},
   "source": [
    "Since we’ve created this cool DFT function before, we can just call it for each of the 6 DataFrames now. And since the result of this function call is a DataFrame again we can use the pyspark best practice in simply calling methods on it sequentially. So what we are doing is the following:\n",
    "\n",
    "- Calling DFT for each class and accelerometer sensor axis.\n",
    "- Joining them together on the ID column. \n",
    "- Re-adding a column containing the class index.\n",
    "- Stacking both Dataframes for each classes together\n",
    "\n"
   ]
  },
  {
   "cell_type": "code",
   "execution_count": 17,
   "metadata": {},
   "outputs": [
    {
     "name": "stdout",
     "output_type": "stream",
     "text": [
      "SystemML Statistics:\n",
      "Total execution time:\t\t0.233 sec.\n",
      "Number of executed Spark inst:\t0.\n",
      "\n",
      "\n",
      "SystemML Statistics:\n",
      "Total execution time:\t\t0.049 sec.\n",
      "Number of executed Spark inst:\t0.\n",
      "\n",
      "\n",
      "SystemML Statistics:\n",
      "Total execution time:\t\t0.052 sec.\n",
      "Number of executed Spark inst:\t0.\n",
      "\n",
      "\n",
      "[Stage 17:>                                                         (0 + 1) / 1]\n",
      "                                                                                \n",
      "[Stage 19:>                                                         (0 + 1) / 1]\n",
      "SystemML Statistics:\n",
      "Total execution time:\t\t7.273 sec.\n",
      "Number of executed Spark inst:\t6.\n",
      "\n",
      "                                                                                \n",
      "\n",
      "[Stage 25:>                                                         (0 + 1) / 1]\n",
      "[Stage 27:>                                                         (0 + 1) / 1]\n",
      "SystemML Statistics:\n",
      "Total execution time:\t\t6.502 sec.\n",
      "Number of executed Spark inst:\t6.\n",
      "\n",
      "                                                                                \n",
      "\n",
      "[Stage 33:>                                                         (0 + 1) / 1]\n",
      "                                                                                \n",
      "[Stage 35:>                                                         (0 + 1) / 1]\n",
      "SystemML Statistics:\n",
      "Total execution time:\t\t6.724 sec.\n",
      "Number of executed Spark inst:\t6.\n",
      "\n",
      "                                                                                \n",
      "\n",
      "+---+--------------------+--------------------+--------------------+--------------------+--------------------+--------------------+-----+\n",
      "| id|                  xa|                  xb|                  ya|                  yb|                  za|                  zb|class|\n",
      "+---+--------------------+--------------------+--------------------+--------------------+--------------------+--------------------+-----+\n",
      "| 26| 0.03912775214058598|-0.09049016952668232| 0.03912775214058598|-0.09049016952668232| 0.03912775214058598|-0.09049016952668232|    1|\n",
      "| 29|0.006260524476137005|-0.05765058448048809|0.006260524476137005|-0.05765058448048809|0.006260524476137005|-0.05765058448048809|    1|\n",
      "| 65| -0.0686442877106673| 0.06538926077517343| -0.0686442877106673| 0.06538926077517343| -0.0686442877106673| 0.06538926077517343|    1|\n",
      "| 19| 0.07207851982267682|-0.00555713532424...| 0.07207851982267682|-0.00555713532424...| 0.07207851982267682|-0.00555713532424...|    1|\n",
      "| 54| 0.03806782602909542|-0.15673003795074777| 0.03806782602909542|-0.15673003795074777| 0.03806782602909542|-0.15673003795074777|    1|\n",
      "|  0| 0.06178937294558884|-0.03961749197816182| 0.06178937294558884|-0.03961749197816182| 0.06178937294558884|-0.03961749197816182|    1|\n",
      "|112|0.050945537592681445|-0.00299428645504...|0.050945537592681445|-0.00299428645504...|0.050945537592681445|-0.00299428645504...|    1|\n",
      "|113| 0.06178937118785787| 0.03961749600785146| 0.06178937118785787| 0.03961749600785146| 0.06178937118785787| 0.03961749600785146|    1|\n",
      "| 22|-0.00942353499552...|0.014489276203582657|-0.00942353499552...|0.014489276203582657|-0.00942353499552...|0.014489276203582657|    1|\n",
      "|  7|-0.02139526027010...| 0.11560580654216471|-0.02139526027010...| 0.11560580654216471|-0.02139526027010...| 0.11560580654216471|    1|\n",
      "| 77|-0.07768949082949561|0.039133460895471164|-0.07768949082949561|0.039133460895471164|-0.07768949082949561|0.039133460895471164|    1|\n",
      "| 34|-0.08799817666162946|0.017746602649508163|-0.08799817666162946|0.017746602649508163|-0.08799817666162946|0.017746602649508163|    1|\n",
      "| 50| -0.0189063133643019|-0.08871621465767468| -0.0189063133643019|-0.08871621465767468| -0.0189063133643019|-0.08871621465767468|    1|\n",
      "| 94|0.007432297488510396|0.003946633565674247|0.007432297488510396|0.003946633565674247|0.007432297488510396|0.003946633565674247|    1|\n",
      "|110|  0.0334907666040125|  0.0703175032167542|  0.0334907666040125|  0.0703175032167542|  0.0334907666040125|  0.0703175032167542|    1|\n",
      "| 57|0.039127744325949065| 0.09049016873590601|0.039127744325949065| 0.09049016873590601|0.039127744325949065| 0.09049016873590601|    1|\n",
      "| 32|-0.13783372672389743|  0.0630534416705046|-0.13783372672389743|  0.0630534416705046|-0.13783372672389743|  0.0630534416705046|    1|\n",
      "| 43| 0.04362147516153375|-0.04661273772305589| 0.04362147516153375|-0.04661273772305589| 0.04362147516153375|-0.04661273772305589|    1|\n",
      "| 84|0.041318959515210835|-0.02405618890046...|0.041318959515210835|-0.02405618890046...|0.041318959515210835|-0.02405618890046...|    1|\n",
      "| 31| -0.0213952544564988| -0.1156058071676539| -0.0213952544564988| -0.1156058071676539| -0.0213952544564988| -0.1156058071676539|    1|\n",
      "+---+--------------------+--------------------+--------------------+--------------------+--------------------+--------------------+-----+\n",
      "only showing top 20 rows\n",
      "\n"
     ]
    }
   ],
   "source": [
    "from pyspark.sql.functions import lit\n",
    "\n",
    "df_class_0 = dft_systemml(x0,'x') \\\n",
    "    .join(dft_systemml(y0,'y'), on=['id'], how='inner') \\\n",
    "    .join(dft_systemml(z0,'z'), on=['id'], how='inner') \\\n",
    "    .withColumn('class', lit(1))\n",
    "    \n",
    "df_class_1 = dft_systemml(x1,'x') \\\n",
    "    .join(dft_systemml(y1,'y'), on=['id'], how='inner') \\\n",
    "    .join(dft_systemml(z1,'z'), on=['id'], how='inner') \\\n",
    "    .withColumn('class', lit(2))\n",
    "\n",
    "df_dft = df_class_0.union(df_class_1)\n",
    "\n",
    "df_dft.show()"
   ]
  },
  {
   "cell_type": "markdown",
   "metadata": {},
   "source": [
    "Please create a VectorAssembler which consumes the newly created DFT columns and produces a column “features”\n"
   ]
  },
  {
   "cell_type": "code",
   "execution_count": 18,
   "metadata": {},
   "outputs": [],
   "source": [
    "from pyspark.ml.feature import VectorAssembler"
   ]
  },
  {
   "cell_type": "code",
   "execution_count": 19,
   "metadata": {},
   "outputs": [],
   "source": [
    "vectorAssembler = VectorAssembler(\n",
    "    inputCols=[\"xa\", \"xb\", \"ya\", \"yb\", \"za\", \"zb\"],\n",
    "    outputCol=\"features\")"
   ]
  },
  {
   "cell_type": "markdown",
   "metadata": {},
   "source": [
    "Please insatiate a classifier from the SparkML package and assign it to the classifier variable. Make sure to set the “class” column as target.\n"
   ]
  },
  {
   "cell_type": "code",
   "execution_count": 24,
   "metadata": {},
   "outputs": [],
   "source": [
    "from pyspark.ml.classification import RandomForestClassifier"
   ]
  },
  {
   "cell_type": "code",
   "execution_count": 25,
   "metadata": {},
   "outputs": [],
   "source": [
    "# classifier = GBTClassifier(labelCol=\"class\", featuresCol=\"features\", maxIter=10)\n",
    "classifier = RandomForestClassifier(labelCol=\"class\", featuresCol=\"features\", numTrees=10)"
   ]
  },
  {
   "cell_type": "markdown",
   "metadata": {},
   "source": [
    "Let’s train and evaluate…\n"
   ]
  },
  {
   "cell_type": "code",
   "execution_count": 26,
   "metadata": {},
   "outputs": [],
   "source": [
    "from pyspark.ml import Pipeline\n",
    "pipeline = Pipeline(stages=[vectorAssembler, classifier])"
   ]
  },
  {
   "cell_type": "code",
   "execution_count": 27,
   "metadata": {},
   "outputs": [],
   "source": [
    "model = pipeline.fit(df_dft)"
   ]
  },
  {
   "cell_type": "code",
   "execution_count": 28,
   "metadata": {},
   "outputs": [],
   "source": [
    "prediction = model.transform(df_dft)"
   ]
  },
  {
   "cell_type": "code",
   "execution_count": 29,
   "metadata": {},
   "outputs": [
    {
     "name": "stdout",
     "output_type": "stream",
     "text": [
      "+---+--------------------+--------------------+--------------------+--------------------+--------------------+--------------------+-----+--------------------+--------------------+--------------------+----------+\n",
      "| id|                  xa|                  xb|                  ya|                  yb|                  za|                  zb|class|            features|       rawPrediction|         probability|prediction|\n",
      "+---+--------------------+--------------------+--------------------+--------------------+--------------------+--------------------+-----+--------------------+--------------------+--------------------+----------+\n",
      "| 26| 0.03912775214058598|-0.09049016952668232| 0.03912775214058598|-0.09049016952668232| 0.03912775214058598|-0.09049016952668232|    1|[0.03912775214058...|[0.0,8.5096832535...|[0.0,0.8509683253...|       1.0|\n",
      "| 29|0.006260524476137005|-0.05765058448048809|0.006260524476137005|-0.05765058448048809|0.006260524476137005|-0.05765058448048809|    1|[0.00626052447613...|[0.0,8.5096832535...|[0.0,0.8509683253...|       1.0|\n",
      "| 65| -0.0686442877106673| 0.06538926077517343| -0.0686442877106673| 0.06538926077517343| -0.0686442877106673| 0.06538926077517343|    1|[-0.0686442877106...|[0.0,8.5115559127...|[0.0,0.8511555912...|       1.0|\n",
      "| 19| 0.07207851982267682|-0.00555713532424...| 0.07207851982267682|-0.00555713532424...| 0.07207851982267682|-0.00555713532424...|    1|[0.07207851982267...|[0.0,8.5096832535...|[0.0,0.8509683253...|       1.0|\n",
      "| 54| 0.03806782602909542|-0.15673003795074777| 0.03806782602909542|-0.15673003795074777| 0.03806782602909542|-0.15673003795074777|    1|[0.03806782602909...|[0.0,8.5096832535...|[0.0,0.8509683253...|       1.0|\n",
      "|  0| 0.06178937294558884|-0.03961749197816182| 0.06178937294558884|-0.03961749197816182| 0.06178937294558884|-0.03961749197816182|    1|[0.06178937294558...|[0.0,8.5096832535...|[0.0,0.8509683253...|       1.0|\n",
      "|112|0.050945537592681445|-0.00299428645504...|0.050945537592681445|-0.00299428645504...|0.050945537592681445|-0.00299428645504...|    1|[0.05094553759268...|[0.0,8.5096832535...|[0.0,0.8509683253...|       1.0|\n",
      "|113| 0.06178937118785787| 0.03961749600785146| 0.06178937118785787| 0.03961749600785146| 0.06178937118785787| 0.03961749600785146|    1|[0.06178937118785...|[0.0,8.5096832535...|[0.0,0.8509683253...|       1.0|\n",
      "| 22|-0.00942353499552...|0.014489276203582657|-0.00942353499552...|0.014489276203582657|-0.00942353499552...|0.014489276203582657|    1|[-0.0094235349955...|[0.0,8.5096832535...|[0.0,0.8509683253...|       1.0|\n",
      "|  7|-0.02139526027010...| 0.11560580654216471|-0.02139526027010...| 0.11560580654216471|-0.02139526027010...| 0.11560580654216471|    1|[-0.0213952602701...|[0.0,8.5115559127...|[0.0,0.8511555912...|       1.0|\n",
      "| 77|-0.07768949082949561|0.039133460895471164|-0.07768949082949561|0.039133460895471164|-0.07768949082949561|0.039133460895471164|    1|[-0.0776894908294...|[0.0,8.5115559127...|[0.0,0.8511555912...|       1.0|\n",
      "| 34|-0.08799817666162946|0.017746602649508163|-0.08799817666162946|0.017746602649508163|-0.08799817666162946|0.017746602649508163|    1|[-0.0879981766616...|[0.0,8.5115559127...|[0.0,0.8511555912...|       1.0|\n",
      "| 50| -0.0189063133643019|-0.08871621465767468| -0.0189063133643019|-0.08871621465767468| -0.0189063133643019|-0.08871621465767468|    1|[-0.0189063133643...|[0.0,8.5096832535...|[0.0,0.8509683253...|       1.0|\n",
      "| 94|0.007432297488510396|0.003946633565674247|0.007432297488510396|0.003946633565674247|0.007432297488510396|0.003946633565674247|    1|[0.00743229748851...|[0.0,8.5096832535...|[0.0,0.8509683253...|       1.0|\n",
      "|110|  0.0334907666040125|  0.0703175032167542|  0.0334907666040125|  0.0703175032167542|  0.0334907666040125|  0.0703175032167542|    1|[0.03349076660401...|[0.0,8.5096832535...|[0.0,0.8509683253...|       1.0|\n",
      "| 57|0.039127744325949065| 0.09049016873590601|0.039127744325949065| 0.09049016873590601|0.039127744325949065| 0.09049016873590601|    1|[0.03912774432594...|[0.0,8.5096832535...|[0.0,0.8509683253...|       1.0|\n",
      "| 32|-0.13783372672389743|  0.0630534416705046|-0.13783372672389743|  0.0630534416705046|-0.13783372672389743|  0.0630534416705046|    1|[-0.1378337267238...|[0.0,8.5115559127...|[0.0,0.8511555912...|       1.0|\n",
      "| 43| 0.04362147516153375|-0.04661273772305589| 0.04362147516153375|-0.04661273772305589| 0.04362147516153375|-0.04661273772305589|    1|[0.04362147516153...|[0.0,8.5096832535...|[0.0,0.8509683253...|       1.0|\n",
      "| 84|0.041318959515210835|-0.02405618890046...|0.041318959515210835|-0.02405618890046...|0.041318959515210835|-0.02405618890046...|    1|[0.04131895951521...|[0.0,8.5096832535...|[0.0,0.8509683253...|       1.0|\n",
      "| 31| -0.0213952544564988| -0.1156058071676539| -0.0213952544564988| -0.1156058071676539| -0.0213952544564988| -0.1156058071676539|    1|[-0.0213952544564...|[0.0,8.5096832535...|[0.0,0.8509683253...|       1.0|\n",
      "+---+--------------------+--------------------+--------------------+--------------------+--------------------+--------------------+-----+--------------------+--------------------+--------------------+----------+\n",
      "only showing top 20 rows\n",
      "\n"
     ]
    }
   ],
   "source": [
    "prediction.show()"
   ]
  },
  {
   "cell_type": "code",
   "execution_count": 30,
   "metadata": {},
   "outputs": [
    {
     "data": {
      "text/plain": [
       "0.9981761070017225"
      ]
     },
     "execution_count": 30,
     "metadata": {},
     "output_type": "execute_result"
    }
   ],
   "source": [
    "from pyspark.ml.evaluation import MulticlassClassificationEvaluator\n",
    "binEval = MulticlassClassificationEvaluator().setMetricName(\"accuracy\") .setPredictionCol(\"prediction\").setLabelCol(\"class\")\n",
    "    \n",
    "binEval.evaluate(prediction) "
   ]
  },
  {
   "cell_type": "markdown",
   "metadata": {},
   "source": [
    "If you are happy with the result (I’m happy with > 0.8) please submit your solution to the grader by executing the following cells, please don’t forget to obtain an assignment submission token (secret) from the Courera’s graders web page and paste it to the “secret” variable below, including your email address you’ve used for Coursera. \n"
   ]
  },
  {
   "cell_type": "code",
   "execution_count": 31,
   "metadata": {},
   "outputs": [],
   "source": [
    "!rm -Rf a2_m4.json"
   ]
  },
  {
   "cell_type": "code",
   "execution_count": 32,
   "metadata": {},
   "outputs": [],
   "source": [
    "prediction = prediction.repartition(1)\n",
    "prediction.write.json('a2_m4.json')"
   ]
  },
  {
   "cell_type": "code",
   "execution_count": 33,
   "metadata": {},
   "outputs": [
    {
     "name": "stdout",
     "output_type": "stream",
     "text": [
      "--2020-02-09 17:52:08--  http://wget/\n",
      "Resolving wget (wget)... failed: nodename nor servname provided, or not known.\n",
      "wget: unable to resolve host address ‘wget’\n",
      "--2020-02-09 17:52:08--  https://raw.githubusercontent.com/IBM/coursera/master/rklib.py\n",
      "Resolving raw.githubusercontent.com (raw.githubusercontent.com)... 151.101.16.133\n",
      "Connecting to raw.githubusercontent.com (raw.githubusercontent.com)|151.101.16.133|:443... connected.\n",
      "HTTP request sent, awaiting response... 200 OK\n",
      "Length: 2540 (2.5K) [text/plain]\n",
      "Saving to: ‘rklib.py’\n",
      "\n",
      "rklib.py            100%[===================>]   2.48K  --.-KB/s    in 0s      \n",
      "\n",
      "2020-02-09 17:52:08 (10.3 MB/s) - ‘rklib.py’ saved [2540/2540]\n",
      "\n",
      "FINISHED --2020-02-09 17:52:08--\n",
      "Total wall clock time: 0.7s\n",
      "Downloaded: 1 files, 2.5K in 0s (10.3 MB/s)\n"
     ]
    }
   ],
   "source": [
    "!rm -f rklib.py\n",
    "!wget wget https://raw.githubusercontent.com/IBM/coursera/master/rklib.py"
   ]
  },
  {
   "cell_type": "code",
   "execution_count": 34,
   "metadata": {},
   "outputs": [],
   "source": [
    "from rklib import zipit\n",
    "zipit('a2_m4.json.zip','a2_m4.json')"
   ]
  },
  {
   "cell_type": "code",
   "execution_count": 35,
   "metadata": {},
   "outputs": [],
   "source": [
    "!base64 a2_m4.json.zip > a2_m4.json.zip.base64"
   ]
  },
  {
   "cell_type": "code",
   "execution_count": 36,
   "metadata": {},
   "outputs": [
    {
     "name": "stdout",
     "output_type": "stream",
     "text": [
      "Submission successful, please check on the coursera grader page for the status\n",
      "-------------------------\n",
      "{\"elements\":[{\"itemId\":\"B8wXV\",\"id\":\"f_F-qCtuEei_fRLwaVDk3g~B8wXV~AgXcf0tlEeqXYhIP6SrxAw\",\"courseId\":\"f_F-qCtuEei_fRLwaVDk3g\"}],\"paging\":{},\"linked\":{}}\n",
      "-------------------------\n"
     ]
    }
   ],
   "source": [
    "from rklib import submit\n",
    "key = \"-fBiYHYDEeiR4QqiFhAvkA\"\n",
    "part = \"IjtJk\"\n",
    "email = ###YOUR_CODE_GOES_HERE###\n",
    "submission_token = ###YOUR_CODE_GOES_HERE### # (have a look here if you need more information on how to obtain the token https://youtu.be/GcDo0Rwe06U?t=276)\n",
    "\n",
    "with open('a2_m4.json.zip.base64', 'r') as myfile:\n",
    "    data=myfile.read()\n",
    "submit(email, submission_token, key, part, [part], data)"
   ]
  },
  {
   "cell_type": "code",
   "execution_count": null,
   "metadata": {},
   "outputs": [],
   "source": []
  }
 ],
 "metadata": {
  "kernelspec": {
   "display_name": "Python 3",
   "language": "python",
   "name": "python3"
  },
  "language_info": {
   "codemirror_mode": {
    "name": "ipython",
    "version": 3
   },
   "file_extension": ".py",
   "mimetype": "text/x-python",
   "name": "python",
   "nbconvert_exporter": "python",
   "pygments_lexer": "ipython3",
   "version": "3.6.7"
  }
 },
 "nbformat": 4,
 "nbformat_minor": 4
}

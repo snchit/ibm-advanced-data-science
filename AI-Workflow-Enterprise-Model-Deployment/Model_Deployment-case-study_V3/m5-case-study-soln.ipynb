{
 "cells": [
  {
   "cell_type": "markdown",
   "metadata": {},
   "source": [
    "## CASE STUDY - Deploying a recommender\n",
    "\n",
    "We have seen the movie lens data on a toy dataset now lets try something a little bigger.  You have some\n",
    "choices.\n",
    "\n",
    "* [MovieLens Downloads](https://grouplens.org/datasets/movielens/latest/)\n",
    "\n",
    "If your resources are limited (your working on a computer with limited amount of memory)\n",
    "\n",
    "> continue to use the sample_movielens_ranting.csv\n",
    "\n",
    "If you have a computer with at least 8GB of RAM\n",
    "\n",
    "> download the ml-latest-small.zip\n",
    "\n",
    "If you have the computational resources (access to Spark cluster or high-memory machine)\n",
    "\n",
    "> download the ml-latest.zip\n",
    "\n",
    "The two important pages for documentation are below.\n",
    "\n",
    "* [Spark MLlib collaborative filtering docs](https://spark.apache.org/docs/latest/ml-collaborative-filtering.html) \n",
    "* [Spark ALS docs](https://spark.apache.org/docs/latest/api/python/pyspark.mllib.html#pyspark.mllib.recommendation.ALS)\n"
   ]
  },
  {
   "cell_type": "code",
   "execution_count": 1,
   "metadata": {},
   "outputs": [],
   "source": [
    "import os\n",
    "import shutil\n",
    "import pandas as pd\n",
    "import numpy as np\n",
    "import pyspark as ps\n",
    "from pyspark.ml import Pipeline\n",
    "from pyspark.ml.evaluation import RegressionEvaluator\n",
    "from pyspark.ml.recommendation import ALS\n",
    "from pyspark.sql import Row\n",
    "from pyspark.sql.types import DoubleType"
   ]
  },
  {
   "cell_type": "code",
   "execution_count": 2,
   "metadata": {},
   "outputs": [
    {
     "name": "stdout",
     "output_type": "stream",
     "text": [
      "2.4.4\n"
     ]
    }
   ],
   "source": [
    "## ensure the spark context is available\n",
    "spark = (ps.sql.SparkSession.builder\n",
    "        .appName(\"sandbox\")\n",
    "        .getOrCreate()\n",
    "        )\n",
    "\n",
    "sc = spark.sparkContext\n",
    "print(spark.version) "
   ]
  },
  {
   "cell_type": "code",
   "execution_count": 3,
   "metadata": {},
   "outputs": [],
   "source": [
    "## note that this solution uses ml-latest.zip\n",
    "data_dir = os.path.join(\"..\",\"data\",\"ml-latest\")\n",
    "ratings_file = os.path.join(data_dir,\"ratings.csv\")\n",
    "movies_file = os.path.join(data_dir,\"movies.csv\")                            \n",
    "if not os.path.exists(ratings_file):\n",
    "    print(\"ERROR make sure the path to the ratings file is correct\")"
   ]
  },
  {
   "cell_type": "code",
   "execution_count": 4,
   "metadata": {},
   "outputs": [
    {
     "name": "stdout",
     "output_type": "stream",
     "text": [
      "+------+-------+------+----------+\n",
      "|userId|movieId|rating| timestamp|\n",
      "+------+-------+------+----------+\n",
      "|     1|    307|   3.5|1256677221|\n",
      "|     1|    481|   3.5|1256677456|\n",
      "|     1|   1091|   1.5|1256677471|\n",
      "|     1|   1257|   4.5|1256677460|\n",
      "+------+-------+------+----------+\n",
      "only showing top 4 rows\n",
      "\n"
     ]
    }
   ],
   "source": [
    "## load the data\n",
    "df = spark.read.format(\"csv\").options(header=\"true\",inferSchema=\"true\").load(ratings_file)\n",
    "df.show(n=4)"
   ]
  },
  {
   "cell_type": "code",
   "execution_count": 5,
   "metadata": {
    "scrolled": false
   },
   "outputs": [
    {
     "data": {
      "text/html": [
       "<div>\n",
       "<style scoped>\n",
       "    .dataframe tbody tr th:only-of-type {\n",
       "        vertical-align: middle;\n",
       "    }\n",
       "\n",
       "    .dataframe tbody tr th {\n",
       "        vertical-align: top;\n",
       "    }\n",
       "\n",
       "    .dataframe thead th {\n",
       "        text-align: right;\n",
       "    }\n",
       "</style>\n",
       "<table border=\"1\" class=\"dataframe\">\n",
       "  <thead>\n",
       "    <tr style=\"text-align: right;\">\n",
       "      <th></th>\n",
       "      <th>movie_id</th>\n",
       "      <th>title</th>\n",
       "      <th>genres</th>\n",
       "    </tr>\n",
       "  </thead>\n",
       "  <tbody>\n",
       "    <tr>\n",
       "      <th>0</th>\n",
       "      <td>1</td>\n",
       "      <td>Toy Story (1995)</td>\n",
       "      <td>Adventure|Animation|Children|Comedy|Fantasy</td>\n",
       "    </tr>\n",
       "    <tr>\n",
       "      <th>1</th>\n",
       "      <td>2</td>\n",
       "      <td>Jumanji (1995)</td>\n",
       "      <td>Adventure|Children|Fantasy</td>\n",
       "    </tr>\n",
       "    <tr>\n",
       "      <th>2</th>\n",
       "      <td>3</td>\n",
       "      <td>Grumpier Old Men (1995)</td>\n",
       "      <td>Comedy|Romance</td>\n",
       "    </tr>\n",
       "    <tr>\n",
       "      <th>3</th>\n",
       "      <td>4</td>\n",
       "      <td>Waiting to Exhale (1995)</td>\n",
       "      <td>Comedy|Drama|Romance</td>\n",
       "    </tr>\n",
       "    <tr>\n",
       "      <th>4</th>\n",
       "      <td>5</td>\n",
       "      <td>Father of the Bride Part II (1995)</td>\n",
       "      <td>Comedy</td>\n",
       "    </tr>\n",
       "  </tbody>\n",
       "</table>\n",
       "</div>"
      ],
      "text/plain": [
       "   movie_id                               title  \\\n",
       "0         1                    Toy Story (1995)   \n",
       "1         2                      Jumanji (1995)   \n",
       "2         3             Grumpier Old Men (1995)   \n",
       "3         4            Waiting to Exhale (1995)   \n",
       "4         5  Father of the Bride Part II (1995)   \n",
       "\n",
       "                                        genres  \n",
       "0  Adventure|Animation|Children|Comedy|Fantasy  \n",
       "1                   Adventure|Children|Fantasy  \n",
       "2                               Comedy|Romance  \n",
       "3                         Comedy|Drama|Romance  \n",
       "4                                       Comedy  "
      ]
     },
     "execution_count": 5,
     "metadata": {},
     "output_type": "execute_result"
    }
   ],
   "source": [
    "movies_df = pd.read_csv(movies_file)\n",
    "movies_df.rename(columns={\"movieId\": \"movie_id\"},inplace=True)\n",
    "movies_df.head(5)"
   ]
  },
  {
   "cell_type": "markdown",
   "metadata": {},
   "source": [
    "## QUESTION 1\n",
    "\n",
    "Explore the movie lens data a little and summarize it"
   ]
  },
  {
   "cell_type": "code",
   "execution_count": 6,
   "metadata": {},
   "outputs": [
    {
     "name": "stdout",
     "output_type": "stream",
     "text": [
      "+-------+------------------+-----------------+------------------+--------------------+\n",
      "|summary|           user_id|         movie_id|            rating|           timestamp|\n",
      "+-------+------------------+-----------------+------------------+--------------------+\n",
      "|  count|          27753444|         27753444|          27753444|            27753444|\n",
      "|   mean|141942.01557064414|18487.99983414671|3.5304452124932677|1.1931218549319258E9|\n",
      "| stddev| 81707.40009148757|35102.62524746828| 1.066352750231982|2.1604822852233925E8|\n",
      "|    min|                 1|                1|               0.5|           789652004|\n",
      "|    max|            283228|           193886|               5.0|          1537945149|\n",
      "+-------+------------------+-----------------+------------------+--------------------+\n",
      "\n",
      "Unique users: 283228\n",
      "Unique movies: 53889\n",
      "Movies with Rating > 2: 50735\n",
      "Movies with Rating > 3: 43107\n",
      "Movies with Rating > 4: 29374\n"
     ]
    }
   ],
   "source": [
    "## YOUR CODE HERE (summarize the data)\n",
    "df = df.withColumnRenamed(\"movieID\", \"movie_id\")\n",
    "df = df.withColumnRenamed(\"userID\", \"user_id\")\n",
    "df.describe().show()\n",
    "print('Unique users: {}'.format(df.select('user_id').distinct().count()))\n",
    "print('Unique movies: {}'.format(df.select('movie_id').distinct().count()))\n",
    "print('Movies with Rating > 2: {}'.format(df.filter('rating > 2').select('movie_id').distinct().count()))\n",
    "print('Movies with Rating > 3: {}'.format(df.filter('rating > 3').select('movie_id').distinct().count()))\n",
    "print('Movies with Rating > 4: {}'.format(df.filter('rating > 4').select('movie_id').distinct().count()))"
   ]
  },
  {
   "cell_type": "markdown",
   "metadata": {},
   "source": [
    "## QUESTION 2\n",
    "\n",
    "Find the ten most popular movies---that is the then movies with the highest average rating\n",
    "\n",
    ">Hint: you may want to subset the movie matrix to only consider movies with a minimum number of ratings"
   ]
  },
  {
   "cell_type": "code",
   "execution_count": 7,
   "metadata": {},
   "outputs": [
    {
     "data": {
      "text/html": [
       "<div>\n",
       "<style scoped>\n",
       "    .dataframe tbody tr th:only-of-type {\n",
       "        vertical-align: middle;\n",
       "    }\n",
       "\n",
       "    .dataframe tbody tr th {\n",
       "        vertical-align: top;\n",
       "    }\n",
       "\n",
       "    .dataframe thead th {\n",
       "        text-align: right;\n",
       "    }\n",
       "</style>\n",
       "<table border=\"1\" class=\"dataframe\">\n",
       "  <thead>\n",
       "    <tr style=\"text-align: right;\">\n",
       "      <th></th>\n",
       "      <th>avg(rating)</th>\n",
       "      <th>movie_id</th>\n",
       "      <th>count</th>\n",
       "      <th>title</th>\n",
       "    </tr>\n",
       "  </thead>\n",
       "  <tbody>\n",
       "    <tr>\n",
       "      <th>0</th>\n",
       "      <td>4.486518</td>\n",
       "      <td>171011</td>\n",
       "      <td>853</td>\n",
       "      <td>Planet Earth II (2016)</td>\n",
       "    </tr>\n",
       "    <tr>\n",
       "      <th>1</th>\n",
       "      <td>4.458092</td>\n",
       "      <td>159817</td>\n",
       "      <td>1384</td>\n",
       "      <td>Planet Earth (2006)</td>\n",
       "    </tr>\n",
       "    <tr>\n",
       "      <th>2</th>\n",
       "      <td>4.424188</td>\n",
       "      <td>318</td>\n",
       "      <td>97999</td>\n",
       "      <td>Shawshank Redemption, The (1994)</td>\n",
       "    </tr>\n",
       "    <tr>\n",
       "      <th>3</th>\n",
       "      <td>4.399898</td>\n",
       "      <td>170705</td>\n",
       "      <td>984</td>\n",
       "      <td>Band of Brothers (2001)</td>\n",
       "    </tr>\n",
       "    <tr>\n",
       "      <th>4</th>\n",
       "      <td>4.350559</td>\n",
       "      <td>174053</td>\n",
       "      <td>1074</td>\n",
       "      <td>Black Mirror: White Christmas (2014)</td>\n",
       "    </tr>\n",
       "    <tr>\n",
       "      <th>5</th>\n",
       "      <td>4.343949</td>\n",
       "      <td>171495</td>\n",
       "      <td>157</td>\n",
       "      <td>Cosmos</td>\n",
       "    </tr>\n",
       "    <tr>\n",
       "      <th>6</th>\n",
       "      <td>4.339667</td>\n",
       "      <td>172591</td>\n",
       "      <td>421</td>\n",
       "      <td>The Godfather Trilogy: 1972-1990 (1992)</td>\n",
       "    </tr>\n",
       "    <tr>\n",
       "      <th>7</th>\n",
       "      <td>4.332893</td>\n",
       "      <td>858</td>\n",
       "      <td>60904</td>\n",
       "      <td>Godfather, The (1972)</td>\n",
       "    </tr>\n",
       "    <tr>\n",
       "      <th>8</th>\n",
       "      <td>4.291959</td>\n",
       "      <td>50</td>\n",
       "      <td>62180</td>\n",
       "      <td>Usual Suspects, The (1995)</td>\n",
       "    </tr>\n",
       "    <tr>\n",
       "      <th>9</th>\n",
       "      <td>4.263889</td>\n",
       "      <td>176601</td>\n",
       "      <td>180</td>\n",
       "      <td>Black Mirror</td>\n",
       "    </tr>\n",
       "  </tbody>\n",
       "</table>\n",
       "</div>"
      ],
      "text/plain": [
       "   avg(rating)  movie_id  count                                    title\n",
       "0     4.486518    171011    853                   Planet Earth II (2016)\n",
       "1     4.458092    159817   1384                      Planet Earth (2006)\n",
       "2     4.424188       318  97999         Shawshank Redemption, The (1994)\n",
       "3     4.399898    170705    984                  Band of Brothers (2001)\n",
       "4     4.350559    174053   1074     Black Mirror: White Christmas (2014)\n",
       "5     4.343949    171495    157                                   Cosmos\n",
       "6     4.339667    172591    421  The Godfather Trilogy: 1972-1990 (1992)\n",
       "7     4.332893       858  60904                    Godfather, The (1972)\n",
       "8     4.291959        50  62180               Usual Suspects, The (1995)\n",
       "9     4.263889    176601    180                             Black Mirror"
      ]
     },
     "execution_count": 7,
     "metadata": {},
     "output_type": "execute_result"
    }
   ],
   "source": [
    "## YOUR CODE HERE\n",
    "\n",
    "## get the top rated movies with more than 100 ratings\n",
    "movie_counts = df.groupBy(\"movie_id\").count()\n",
    "top_rated = df.groupBy(\"movie_id\").avg('rating')\n",
    "top_rated = top_rated.withColumnRenamed(\"movie_id\", \"movie_id_2\")\n",
    "top_movies = top_rated.join(movie_counts, top_rated.movie_id_2 == movie_counts.movie_id)\n",
    "top_movies = top_movies.filter('count>100').orderBy('avg(rating)',ascending=False).drop(\"movie_id_2\")\n",
    "top_movies = top_movies.toPandas()\n",
    "\n",
    "## add the movie titles to data frame\n",
    "movie_ids = top_movies['movie_id'].values\n",
    "inds = [np.where(movies_df['movie_id'].values==mid)[0][0] for mid in movie_ids]\n",
    "top_movies[\"title\"] = movies_df['title'].values[inds]\n",
    "\n",
    "top_movies.head(10)"
   ]
  },
  {
   "cell_type": "markdown",
   "metadata": {},
   "source": [
    "## QUESTION 3\n",
    "\n",
    "Compare at least 5 different values for the ``regParam``\n",
    "\n",
    "Use the `` ALS.trainImplicit()`` and compare it to the ``.fit()`` method.  See the [Spark ALS docs](https://spark.apache.org/docs/latest/api/python/pyspark.mllib.html#pyspark.mllib.recommendation.ALS)\n",
    "for example usage. "
   ]
  },
  {
   "cell_type": "code",
   "execution_count": 13,
   "metadata": {},
   "outputs": [],
   "source": [
    "## YOUR CODE HERE\n",
    "\n",
    "(training, test) = df.randomSplit([0.8, 0.2])\n",
    "\n",
    "def train_model(reg_param,implicit_prefs=False):\n",
    "    als = ALS(maxIter=5, regParam=reg_param, userCol=\"user_id\", \n",
    "              itemCol=\"movie_id\", ratingCol=\"rating\",\n",
    "              coldStartStrategy=\"drop\",implicitPrefs=implicit_prefs)\n",
    "    model = als.fit(training)\n",
    "\n",
    "    predictions = model.transform(test)\n",
    "    evaluator = RegressionEvaluator(metricName=\"rmse\", labelCol=\"rating\",\n",
    "                                    predictionCol=\"prediction\")\n",
    "\n",
    "    rmse = evaluator.evaluate(predictions)\n",
    "    print(\"regParam={}, RMSE={}\".format(reg_param,np.round(rmse,2)))\n"
   ]
  },
  {
   "cell_type": "code",
   "execution_count": 9,
   "metadata": {},
   "outputs": [
    {
     "name": "stdout",
     "output_type": "stream",
     "text": [
      "regParam=0.01, RMSE=0.84\n",
      "regParam=0.05, RMSE=0.83\n",
      "regParam=0.1, RMSE=0.83\n",
      "regParam=0.15, RMSE=0.84\n",
      "regParam=0.25, RMSE=0.87\n"
     ]
    }
   ],
   "source": [
    "for reg_param in [0.01, 0.05, 0.1, 0.15, 0.25]:\n",
    "    train_model(reg_param)"
   ]
  },
  {
   "cell_type": "markdown",
   "metadata": {},
   "source": [
    "## QUESTION 4\n",
    "\n",
    "With your best regParam try using the `implicitPrefs` flag.\n",
    "\n",
    ">Note that the results here make sense because the data are `explicit` ratings"
   ]
  },
  {
   "cell_type": "code",
   "execution_count": 15,
   "metadata": {},
   "outputs": [
    {
     "name": "stdout",
     "output_type": "stream",
     "text": [
      "regParam=0.1, RMSE=3.26\n"
     ]
    }
   ],
   "source": [
    "## YOUR CODE HERE\n",
    "\n",
    "train_model(0.1, implicit_prefs=True)"
   ]
  },
  {
   "cell_type": "markdown",
   "metadata": {},
   "source": [
    "## QUESTION 5\n",
    "\n",
    "Use model persistence to save your finalized model"
   ]
  },
  {
   "cell_type": "code",
   "execution_count": 11,
   "metadata": {},
   "outputs": [
    {
     "name": "stdout",
     "output_type": "stream",
     "text": [
      "...training\n",
      "...overwritting saved model\n",
      "...saving top-movies\n",
      "done.\n"
     ]
    }
   ],
   "source": [
    "## YOUR CODE HERE\n",
    "\n",
    "## re-train using the whole data set\n",
    "print(\"...training\")\n",
    "als = ALS(maxIter=5, regParam=0.1, userCol=\"user_id\", \n",
    "          itemCol=\"movie_id\", ratingCol=\"rating\",\n",
    "          coldStartStrategy=\"drop\")\n",
    "model = als.fit(df)\n",
    "\n",
    "## save the model for furture use\n",
    "save_dir = \"saved-recommender\"\n",
    "if os.path.isdir(save_dir):\n",
    "    print(\"...overwritting saved model\")\n",
    "    shutil.rmtree(save_dir)\n",
    "\n",
    "## save the top-ten movies\n",
    "print(\"...saving top-movies\")\n",
    "top_movies[:10000].to_csv(\"top-movies.csv\",index=False)\n",
    "    \n",
    "## save model\n",
    "model.save(save_dir)\n",
    "print(\"done.\")"
   ]
  },
  {
   "cell_type": "markdown",
   "metadata": {},
   "source": [
    "## QUESTION 6\n",
    "\n",
    "Use ``spark-submit`` to load the model and demonstrate that you can load the model and interface with it."
   ]
  },
  {
   "cell_type": "code",
   "execution_count": 12,
   "metadata": {},
   "outputs": [],
   "source": [
    "## YOUR CODE HERE\n",
    "\n",
    "## see recommender-submit.py"
   ]
  },
  {
   "cell_type": "code",
   "execution_count": null,
   "metadata": {},
   "outputs": [],
   "source": []
  }
 ],
 "metadata": {
  "kernelspec": {
   "display_name": "Python 3",
   "language": "python",
   "name": "python3"
  },
  "language_info": {
   "codemirror_mode": {
    "name": "ipython",
    "version": 3
   },
   "file_extension": ".py",
   "mimetype": "text/x-python",
   "name": "python",
   "nbconvert_exporter": "python",
   "pygments_lexer": "ipython3",
   "version": "3.7.5"
  }
 },
 "nbformat": 4,
 "nbformat_minor": 4
}
